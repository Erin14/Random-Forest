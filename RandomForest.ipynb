{
 "cells": [
  {
   "cell_type": "markdown",
   "metadata": {},
   "source": [
    "# Random Forest"
   ]
  },
  {
   "cell_type": "markdown",
   "metadata": {},
   "source": [
    "In this notebook, we explore the effect of $m$ - the size of the random feature subset used in choosing the splitting point - in the decision trees."
   ]
  },
  {
   "cell_type": "markdown",
   "metadata": {},
   "source": [
    "#### Load the California housing dataset provided in sklearn.datasets, and construct a random 70/30 train-test split. "
   ]
  },
  {
   "cell_type": "code",
   "execution_count": 1,
   "metadata": {},
   "outputs": [
    {
     "name": "stderr",
     "output_type": "stream",
     "text": [
      "/opt/anaconda3/lib/python3.7/site-packages/sklearn/utils/deprecation.py:143: FutureWarning: The sklearn.datasets.california_housing module is  deprecated in version 0.22 and will be removed in version 0.24. The corresponding classes / functions should instead be imported from sklearn.datasets. Anything that cannot be imported from sklearn.datasets is now part of the private API.\n",
      "  warnings.warn(message, FutureWarning)\n"
     ]
    }
   ],
   "source": [
    "from sklearn.datasets.california_housing import fetch_california_housing\n",
    "from sklearn.model_selection import train_test_split\n",
    "\n",
    "houses = fetch_california_housing()\n",
    "\n",
    "X_train, X_test, y_train, y_test = train_test_split(houses.data, houses.target, \n",
    "                                                    test_size = 0.3, random_state = 1)\n"
   ]
  },
  {
   "cell_type": "code",
   "execution_count": 2,
   "metadata": {},
   "outputs": [
    {
     "data": {
      "text/plain": [
       "8"
      ]
     },
     "execution_count": 2,
     "metadata": {},
     "output_type": "execute_result"
    }
   ],
   "source": [
    "names = houses.feature_names\n",
    "len(names)"
   ]
  },
  {
   "cell_type": "markdown",
   "metadata": {},
   "source": [
    "#### Train a random forest of 100 decision trees using default hyperparameters."
   ]
  },
  {
   "cell_type": "code",
   "execution_count": 3,
   "metadata": {},
   "outputs": [
    {
     "name": "stdout",
     "output_type": "stream",
     "text": [
      "Training MSE is 0.036767271946269345\n",
      "Test MSE is 0.2608140949358087\n"
     ]
    }
   ],
   "source": [
    "from sklearn.ensemble import RandomForestRegressor\n",
    "from sklearn.metrics import mean_squared_error\n",
    "\n",
    "rf_reg = RandomForestRegressor(n_estimators = 100, random_state = 1)\n",
    "rf_reg.fit(X_train, y_train)\n",
    "\n",
    "pred_train = rf_reg.predict(X_train)\n",
    "pred_test = rf_reg.predict(X_test)\n",
    "\n",
    "train_MSE = mean_squared_error(pred_train, y_train)\n",
    "test_MSE = mean_squared_error(pred_test, y_test)\n",
    "\n",
    "print(\"Training MSE is\", train_MSE)\n",
    "print(\"Test MSE is\", test_MSE)"
   ]
  },
  {
   "cell_type": "markdown",
   "metadata": {},
   "source": [
    "We use mean squared error (MSE) for measuring the regression performance. The MSE for the training set is: 0.0368, while the MSE for the test set is: 0.2608."
   ]
  },
  {
   "cell_type": "markdown",
   "metadata": {},
   "source": [
    "#### Compute all the pairwise correlations between the test set predictions of the 100 trees, and report their average.  "
   ]
  },
  {
   "cell_type": "code",
   "execution_count": 7,
   "metadata": {
    "scrolled": true
   },
   "outputs": [
    {
     "name": "stdout",
     "output_type": "stream",
     "text": [
      "The average of pairwise correlations is 0.7599679327428122\n"
     ]
    }
   ],
   "source": [
    "import numpy as np\n",
    "\n",
    "each_tree_pred = [tree.predict(X_test) for tree in rf_reg.estimators_]\n",
    "all_corr = np.corrcoef(each_tree_pred, each_tree_pred)\n",
    "pairwise_corr = np.array([])\n",
    "for i in range(100):\n",
    "    pairwise_corr = np.append(pairwise_corr, all_corr[i][(i+1):100])\n",
    "    \n",
    "print(\"The average of pairwise correlations is\", np.mean(pairwise_corr))"
   ]
  },
  {
   "cell_type": "markdown",
   "metadata": {},
   "source": [
    "As the output shown above, the average of pairwise correlations is 0.75997."
   ]
  },
  {
   "cell_type": "markdown",
   "metadata": {},
   "source": [
    "#### Repeat (b) and (c) for 𝑚 = 1 to 𝑑 (8), and tabulate the training and test accuracies, and the average correlations for all 𝑚 values."
   ]
  },
  {
   "cell_type": "code",
   "execution_count": 8,
   "metadata": {},
   "outputs": [],
   "source": [
    "train_MSEs = []\n",
    "test_MSEs = []\n",
    "average_corrs = []\n",
    "m_list = list(range(1, 9))\n",
    "\n",
    "for m in m_list:\n",
    "    rf_reg = RandomForestRegressor(n_estimators = 100, random_state = 1, max_features = m)\n",
    "    rf_reg.fit(X_train, y_train)\n",
    "\n",
    "    pred_train = rf_reg.predict(X_train)\n",
    "    pred_test = rf_reg.predict(X_test)\n",
    "\n",
    "    train_MSEs.append(mean_squared_error(pred_train, y_train))\n",
    "    test_MSEs.append(mean_squared_error(pred_test, y_test))\n",
    "    \n",
    "    each_tree_pred = [tree.predict(X_test) for tree in rf_reg.estimators_]\n",
    "    all_corr = np.corrcoef(each_tree_pred, each_tree_pred)\n",
    "    \n",
    "    pairwise_corr = np.array([])\n",
    "    for i in range(100):\n",
    "        pairwise_corr = np.append(pairwise_corr, all_corr[i][(i+1):100])\n",
    "    average_corrs.append(np.mean(pairwise_corr))\n"
   ]
  },
  {
   "cell_type": "code",
   "execution_count": 9,
   "metadata": {},
   "outputs": [
    {
     "name": "stdout",
     "output_type": "stream",
     "text": [
      "   m  Training MSE  Test MSE  Average Correlations\n",
      "0  1      0.040679  0.284091              0.601266\n",
      "1  2      0.034894  0.245656              0.703066\n",
      "2  3      0.033898  0.241642              0.736417\n",
      "3  4      0.034678  0.244923              0.746162\n",
      "4  5      0.035879  0.253168              0.749856\n",
      "5  6      0.036054  0.253776              0.755807\n",
      "6  7      0.036612  0.259036              0.754222\n",
      "7  8      0.036767  0.260814              0.759968\n"
     ]
    }
   ],
   "source": [
    "import pandas as pd\n",
    "\n",
    "tabulate_data = {'m': m_list, 'Training MSE': train_MSEs, 'Test MSE': test_MSEs, \n",
    "                 'Average Correlations': average_corrs}\n",
    "df = pd.DataFrame(tabulate_data, columns = tabulate_data.keys())\n",
    "print(df)"
   ]
  },
  {
   "cell_type": "markdown",
   "metadata": {},
   "source": [
    "In addition, plot the training and test accuracies against 𝑚 in a single figure, and plot the average correlation against 𝑚 in another figure."
   ]
  },
  {
   "cell_type": "code",
   "execution_count": 10,
   "metadata": {},
   "outputs": [
    {
     "data": {
      "image/png": "[encoded data removed]",
      "text/plain": [
       "<Figure size 432x288 with 1 Axes>"
      ]
     },
     "metadata": {
      "needs_background": "light"
     },
     "output_type": "display_data"
    }
   ],
   "source": [
    "%matplotlib inline\n",
    "import matplotlib.pyplot as plt\n",
    "\n",
    "plt.plot(m_list, train_MSEs, color = 'orange', label = 'Training MSE')\n",
    "plt.plot(m_list, test_MSEs, color = 'green', label = 'Test MSE')\n",
    "plt.ylim([0, 0.4])\n",
    "plt.xlabel(\"m\")\n",
    "plt.ylabel(\"mean squared error\")\n",
    "plt.legend(loc = 1)\n",
    "plt.show()"
   ]
  },
  {
   "cell_type": "code",
   "execution_count": 11,
   "metadata": {},
   "outputs": [
    {
     "data": {
      "image/png": "[encoded data removed]",
      "text/plain": [
       "<Figure size 432x288 with 1 Axes>"
      ]
     },
     "metadata": {
      "needs_background": "light"
     },
     "output_type": "display_data"
    }
   ],
   "source": [
    "plt.plot(m_list, average_corrs)\n",
    "plt.xlabel(\"m\")\n",
    "plt.ylabel(\"average correlation\")\n",
    "plt.show()"
   ]
  },
  {
   "cell_type": "markdown",
   "metadata": {},
   "source": [
    "#### The average correlation increases as the value of m increases."
   ]
  },
  {
   "cell_type": "code",
   "execution_count": 24,
   "metadata": {},
   "outputs": [
    {
     "data": {
      "text/plain": [
       "array([0.52221483, 0.14033067, 0.09136843, 0.08901316, 0.05209914,\n",
       "       0.04281605, 0.03121226, 0.03094546])"
      ]
     },
     "execution_count": 24,
     "metadata": {},
     "output_type": "execute_result"
    }
   ],
   "source": [
    "# have a look at the feature_importances_\n",
    "np.sort(rf_reg.feature_importances_)[::-1]"
   ]
  },
  {
   "cell_type": "markdown",
   "metadata": {},
   "source": [
    "As the maximum number of features (m) increases, we generally use more features for model building. It is no doubt that when the number of features used to train a decision tree is low, with more features in the dataset, the regression performance would be better, and thus, we can predict the test set with a higher accuracy. So the predicted results would be closer to the actual values and hence the average correlation would increase before m equals to 6.  \n",
    "  \n",
    "From the output above, the feature importances are just slightly different except the one with 0.5222 and the one with 0.1403, that is the reason why the average correlation increases rapidly at first and becomes steadier after m = 3.  "
   ]
  }
 ],
 "metadata": {
  "kernelspec": {
   "display_name": "Python 3",
   "language": "python",
   "name": "python3"
  },
  "language_info": {
   "codemirror_mode": {
    "name": "ipython",
    "version": 3
   },
   "file_extension": ".py",
   "mimetype": "text/x-python",
   "name": "python",
   "nbconvert_exporter": "python",
   "pygments_lexer": "ipython3",
   "version": "3.7.9"
  }
 },
 "nbformat": 4,
 "nbformat_minor": 4
}
